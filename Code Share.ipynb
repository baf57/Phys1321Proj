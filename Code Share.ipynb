{
 "cells": [
  {
   "cell_type": "code",
   "execution_count": null,
   "metadata": {},
   "outputs": [],
   "source": [
    "import numpy as np\n",
    "import matplotlib.pyplot as plt\n",
    "from matplotlib.animation import FuncAnimation\n",
    "\n",
    "fig = plt.figure()\n",
    "orbit, = plt.plot([], \"o\")\n",
    "plt.xlim(-0.5e12,4e12)\n",
    "plt.ylim(-3e11,3e11)\n",
    "def animate(frame):\n",
    "    orbit.set_data(x[frame+700], y[frame+700])\n",
    "anim = FuncAnimation(fig, animate, frames=100, interval=50)\n",
    "video = anim.to_html5_video()\n",
    "plt.close()\n",
    "display.HTML(video)"
   ]
  }
 ],
 "metadata": {
  "kernelspec": {
   "display_name": "Python 3",
   "language": "python",
   "name": "python3"
  },
  "language_info": {
   "codemirror_mode": {
    "name": "ipython",
    "version": 3
   },
   "file_extension": ".py",
   "mimetype": "text/x-python",
   "name": "python",
   "nbconvert_exporter": "python",
   "pygments_lexer": "ipython3",
   "version": "3.6.5"
  }
 },
 "nbformat": 4,
 "nbformat_minor": 2
}
