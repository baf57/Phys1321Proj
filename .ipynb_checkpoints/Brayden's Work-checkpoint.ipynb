{
 "cells": [
  {
   "cell_type": "markdown",
   "metadata": {},
   "source": [
    "This part is pretty much done. All of the code above the \"#####################################################\" (including the imports) is required to make this part run. The only line which must be executed to make this run is \"V,TF=genInit(x,y,nSmall,maxPot)\" where x and y are the dimensions of the overall array, nSmall is the number of shapes to add randomly to the potential array and maxPot is the maximum potential applied to any of the initial arrays. The outputs are as follows: V is the initial potential array, and TF is the true/false array where points which are not initially fixed correspond to a true, and those which are initially fixed correspond to a false. See the output arrays at the end for visual examples of this.\n",
    "\n",
    "Things to add:\n",
    "\n",
    "1) If two objects touch they should have the same potential as each other\n",
    "\n",
    "2) Maybe bigger or differently shaped objects? Depends on how the solved state of the system looks"
   ]
  },
  {
   "cell_type": "code",
   "execution_count": 54,
   "metadata": {},
   "outputs": [],
   "source": [
    "import numpy as np\n",
    "import matplotlib.pyplot as plt\n",
    "import random as rand"
   ]
  },
  {
   "cell_type": "code",
   "execution_count": 219,
   "metadata": {},
   "outputs": [
    {
     "data": {
      "image/png": "[encoded data removed]",
      "text/plain": [
       "<Figure size 1152x432 with 3 Axes>"
      ]
     },
     "metadata": {},
     "output_type": "display_data"
    }
   ],
   "source": [
    "# 1) Create array\n",
    "#   a) Dynamic size w/ all values 0\n",
    "#   b) Also create true/false array w/ all but borders True at first\n",
    "# 2) Use rand number generator to add smaller arrays\n",
    "#   a) Make smaller array pool w/ each array having changable potentials\n",
    "#   b) Make array inserter that adds potentials to potential array and makes TF array false where V!=0\n",
    "# 3) Use single def to do all of this\n",
    "\n",
    "def cArys(x,y):\n",
    "    V=np.zeros((x,y))\n",
    "    TF=np.ones((x,y),dtype=bool)\n",
    "    Fy=np.zeros((1,y),dtype=bool)\n",
    "    Fx=np.zeros((1,x),dtype=bool)\n",
    "    TF[0]=TF[x-1]=Fy\n",
    "    TF.T[0]=TF.T[y-1]=Fx\n",
    "    return V,TF\n",
    "\n",
    "def smArys(ind,rot,pot):\n",
    "    if ind==0:\n",
    "        A=[[pot,pot,0],[pot,pot,pot]]\n",
    "        return rota(np.array(A),rot)\n",
    "    if ind==1:\n",
    "        A=[[pot,pot,pot,pot,pot]]\n",
    "        return rota(np.array(A),rot)\n",
    "    if ind==2:\n",
    "        A=[[pot,pot,pot],[0,0,pot],[pot,pot,pot]]\n",
    "        return rota(np.array(A),rot)\n",
    "    if ind==3:\n",
    "        A=[[pot,pot,pot,0,pot],[pot,0,pot,0,pot],[pot,0,pot,pot,pot]]\n",
    "        return rota(np.array(A),rot)\n",
    "    if ind==4:\n",
    "        A=[[pot,pot,pot],[0,pot,pot],[0,0,pot]]\n",
    "        return rota(np.array(A),rot)\n",
    "    if ind==5:\n",
    "        A=[[pot,0,pot],[pot,pot,pot],[pot,0,pot]]\n",
    "        return rota(np.array(A),rot)\n",
    "    if ind==6:\n",
    "        A=[[0,pot],[0,pot],[pot,pot]]\n",
    "        return rota(np.array(A),rot)\n",
    "    return False\n",
    "    \n",
    "def rota(A,rot):\n",
    "    for n in range(0,rot):\n",
    "        A=np.rot90(A)\n",
    "    return A\n",
    "\n",
    "def insrt(xi,yi,A,V,TF):\n",
    "    lx,ly=np.shape(A)\n",
    "    if np.all(TF[xi:xi+lx,yi:yi+ly]==True):\n",
    "        V[xi:xi+lx,yi:yi+ly]=A\n",
    "        TF[xi:xi+lx,yi:yi+ly]=(A==0)\n",
    "        return False\n",
    "    else:\n",
    "        return True\n",
    "        \n",
    "def genInit(x,y,nSmall,maxPot):\n",
    "    V,TF=cArys(x,y)\n",
    "    for n in range(nSmall):\n",
    "        check=True\n",
    "        while check:\n",
    "            ind=rand.randint(0,6)\n",
    "            rot=rand.randint(0,3)\n",
    "            pot=rand.uniform(0,maxPot)\n",
    "            A=smArys(ind,rot,pot)\n",
    "            xi=rand.randint(0,x-1)\n",
    "            yi=rand.randint(0,y-1)\n",
    "            check=insrt(xi,yi,A,V,TF)\n",
    "    return V,TF\n",
    "\n",
    "#####################################################\n",
    "\n",
    "V,TF=genInit(100,100,25,100)\n",
    "plt.figure(figsize=(16,6))\n",
    "plt.subplot(121)\n",
    "plt.title(\"Potential Map\")\n",
    "plt.imshow(V,cmap=\"hot\")\n",
    "cbar=plt.colorbar()\n",
    "cbar.set_label(\"Potential (Volts)\", rotation=270,labelpad=15)\n",
    "plt.subplot(122)\n",
    "plt.title(\"True/False Array (True is white, False is black)\")\n",
    "plt.imshow(TF,cmap=\"gray\");"
   ]
  }
 ],
 "metadata": {
  "kernelspec": {
   "display_name": "Python 3",
   "language": "python",
   "name": "python3"
  },
  "language_info": {
   "codemirror_mode": {
    "name": "ipython",
    "version": 3
   },
   "file_extension": ".py",
   "mimetype": "text/x-python",
   "name": "python",
   "nbconvert_exporter": "python",
   "pygments_lexer": "ipython3",
   "version": "3.6.5"
  }
 },
 "nbformat": 4,
 "nbformat_minor": 2
}
